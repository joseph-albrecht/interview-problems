{
 "cells": [
  {
   "cell_type": "markdown",
   "metadata": {},
   "source": [
    "# Add the two largest values in a list\n",
    "just playing around and trying different solutions"
   ]
  },
  {
   "cell_type": "markdown",
   "metadata": {},
   "source": [
    "Version in interview (originally written in Java)"
   ]
  },
  {
   "cell_type": "code",
   "execution_count": 101,
   "metadata": {
    "collapsed": true
   },
   "outputs": [],
   "source": [
    "def add_two_largest(list_of_nums = []):\n",
    "    biggest = None\n",
    "    second_biggest = None\n",
    "    for num in list_of_nums:\n",
    "        if biggest == None or num > biggest:\n",
    "            if biggest == None:\n",
    "                biggest = num\n",
    "            else:\n",
    "                second_biggest = biggest\n",
    "                biggest = num\n",
    "            continue\n",
    "        if second_biggest == None or num > second_biggest:\n",
    "            second_biggest = num\n",
    "    return biggest + second_biggest"
   ]
  },
  {
   "cell_type": "code",
   "execution_count": 103,
   "metadata": {},
   "outputs": [
    {
     "name": "stdout",
     "output_type": "stream",
     "text": [
      "1000000 loops, best of 3: 981 ns per loop\n",
      "11\n"
     ]
    }
   ],
   "source": [
    "%timeit add_two_largest([-1,5,6,0,3,5])\n",
    "print (add_two_largest([-1,5,6,0,3,5]))"
   ]
  },
  {
   "cell_type": "markdown",
   "metadata": {},
   "source": [
    "## Getting rid of checking none twice in loop"
   ]
  },
  {
   "cell_type": "code",
   "execution_count": 104,
   "metadata": {
    "collapsed": true
   },
   "outputs": [],
   "source": [
    "def add_two_largest(list_of_nums = []):\n",
    "    biggest = None\n",
    "    second_biggest = None\n",
    "    for num in list_of_nums:\n",
    "        if biggest == None:\n",
    "                biggest = num\n",
    "        elif num > biggest:\n",
    "                second_biggest = biggest\n",
    "                biggest = num\n",
    "        elif second_biggest == None or num > second_biggest:\n",
    "            second_biggest = num\n",
    "        continue\n",
    "    return biggest + second_biggest"
   ]
  },
  {
   "cell_type": "code",
   "execution_count": 105,
   "metadata": {},
   "outputs": [
    {
     "name": "stdout",
     "output_type": "stream",
     "text": [
      "1000000 loops, best of 3: 875 ns per loop\n",
      "11\n"
     ]
    }
   ],
   "source": [
    "%timeit add_two_largest([-1,5,6,0,3,5])\n",
    "print (add_two_largest([-1,5,6,0,3,5]))"
   ]
  },
  {
   "cell_type": "markdown",
   "metadata": {},
   "source": [
    "## getting rid of checking none\n",
    "more readable"
   ]
  },
  {
   "cell_type": "code",
   "execution_count": 113,
   "metadata": {
    "collapsed": true
   },
   "outputs": [],
   "source": [
    "def add_two_largest(list_of_nums = []):\n",
    "    second_biggest, biggest = sorted(list_of_nums[:2])\n",
    "    for num in list_of_nums:\n",
    "        if num > biggest:\n",
    "                second_biggest = biggest\n",
    "                biggest = num\n",
    "        elif num > second_biggest:\n",
    "            second_biggest = num\n",
    "    return biggest + second_biggest"
   ]
  },
  {
   "cell_type": "code",
   "execution_count": 114,
   "metadata": {},
   "outputs": [
    {
     "name": "stdout",
     "output_type": "stream",
     "text": [
      "The slowest run took 4.28 times longer than the fastest. This could mean that an intermediate result is being cached.\n",
      "1000000 loops, best of 3: 1.11 µs per loop\n",
      "11\n"
     ]
    }
   ],
   "source": [
    "%timeit add_two_largest([-1,5,6,0,3,5])\n",
    "print (add_two_largest([-1,5,6,0,3,5]))"
   ]
  },
  {
   "cell_type": "markdown",
   "metadata": {},
   "source": [
    "## Using some built-ins, but traversing list twice\n",
    "more readable still"
   ]
  },
  {
   "cell_type": "code",
   "execution_count": 106,
   "metadata": {
    "collapsed": true
   },
   "outputs": [],
   "source": [
    "def add_two_largest(list_of_nums = []):\n",
    "    biggest = max(list_of_nums)\n",
    "    list_of_nums.remove(biggest)\n",
    "    second_biggest = max(list_of_nums)\n",
    "    return biggest + second_biggest"
   ]
  },
  {
   "cell_type": "code",
   "execution_count": 107,
   "metadata": {},
   "outputs": [
    {
     "name": "stdout",
     "output_type": "stream",
     "text": [
      "The slowest run took 6.65 times longer than the fastest. This could mean that an intermediate result is being cached.\n",
      "1000000 loops, best of 3: 1.03 µs per loop\n",
      "11\n"
     ]
    }
   ],
   "source": [
    "%timeit add_two_largest([-1,5,6,0,3,5])\n",
    "print (add_two_largest([-1,5,6,0,3,5]))"
   ]
  },
  {
   "cell_type": "markdown",
   "metadata": {},
   "source": [
    "## just sorting the entire thing"
   ]
  },
  {
   "cell_type": "code",
   "execution_count": 123,
   "metadata": {
    "collapsed": true
   },
   "outputs": [],
   "source": [
    "def add_two_largest(list_of_nums = []):\n",
    "    *_, second_biggest, biggest = sorted(list_of_nums)\n",
    "    return second_biggest + biggest"
   ]
  },
  {
   "cell_type": "code",
   "execution_count": 125,
   "metadata": {},
   "outputs": [
    {
     "name": "stdout",
     "output_type": "stream",
     "text": [
      "The slowest run took 5.08 times longer than the fastest. This could mean that an intermediate result is being cached.\n",
      "1000000 loops, best of 3: 947 ns per loop\n",
      "11\n"
     ]
    }
   ],
   "source": [
    "%timeit add_two_largest([-1,5,6,0,3,5])\n",
    "print (add_two_largest([-1,5,6,0,3,5]))"
   ]
  },
  {
   "cell_type": "markdown",
   "metadata": {},
   "source": [
    "## using a list comprehension\n",
    "not remotely pretty and much slower"
   ]
  },
  {
   "cell_type": "code",
   "execution_count": 134,
   "metadata": {
    "collapsed": true
   },
   "outputs": [],
   "source": [
    "def add_two_largest(list_of_nums = []): \n",
    "    return max([x + y for i, x in enumerate(list_of_nums) for j, y in enumerate(list_of_nums) if i is not j])"
   ]
  },
  {
   "cell_type": "code",
   "execution_count": 135,
   "metadata": {
    "scrolled": true
   },
   "outputs": [
    {
     "name": "stdout",
     "output_type": "stream",
     "text": [
      "100000 loops, best of 3: 7.1 µs per loop\n",
      "11\n"
     ]
    }
   ],
   "source": [
    "%timeit add_two_largest([-1,5,6,0,3,5])\n",
    "print (add_two_largest([-1,5,6,0,3,5]))"
   ]
  },
  {
   "cell_type": "markdown",
   "metadata": {},
   "source": [
    "## using recursion to find the largest number"
   ]
  },
  {
   "cell_type": "code",
   "execution_count": 42,
   "metadata": {
    "collapsed": true
   },
   "outputs": [],
   "source": [
    "def get_largest( numbers = [], largest=None):\n",
    "    if numbers:\n",
    "        current_number = numbers[0]\n",
    "        if largest == None:\n",
    "            largest = current_number\n",
    "        elif current_number > largest:\n",
    "            \n",
    "        return get_largest(numbers[1:], largest)\n",
    "    else:\n",
    "        return largest"
   ]
  },
  {
   "cell_type": "code",
   "execution_count": 43,
   "metadata": {},
   "outputs": [
    {
     "name": "stdout",
     "output_type": "stream",
     "text": [
      "7\n"
     ]
    }
   ],
   "source": [
    "print (get_largest([3,1,5,7,4]))"
   ]
  },
  {
   "cell_type": "code",
   "execution_count": 37,
   "metadata": {
    "collapsed": true
   },
   "outputs": [],
   "source": [
    "def add_two_largest(list_of_nums = []):\n",
    "    biggest = get_largest(list_of_nums)\n",
    "    list_of_nums.remove(biggest)\n",
    "    second_biggest = get_largest(list_of_nums)\n",
    "    return biggest + second_biggest"
   ]
  },
  {
   "cell_type": "code",
   "execution_count": 38,
   "metadata": {},
   "outputs": [
    {
     "name": "stdout",
     "output_type": "stream",
     "text": [
      "100000 loops, best of 3: 4.05 µs per loop\n",
      "11\n"
     ]
    }
   ],
   "source": [
    "%timeit add_two_largest([-1,5,6,0,3,5])\n",
    "print (add_two_largest([-1,5,6,0,3,5]))"
   ]
  },
  {
   "cell_type": "markdown",
   "metadata": {},
   "source": [
    "## using recursion for the whole thing"
   ]
  },
  {
   "cell_type": "code",
   "execution_count": 64,
   "metadata": {
    "collapsed": true
   },
   "outputs": [],
   "source": [
    "def get_sum_of_two_largest(numbers = [], largest=None, second_largest=None):\n",
    "    if numbers:\n",
    "        current_number = numbers[0]\n",
    "        if largest == None:\n",
    "            largest = current_number\n",
    "        elif current_number > largest:\n",
    "            second_largest = largest\n",
    "            largest = current_number\n",
    "        elif second_largest == None or current_number > second_largest:\n",
    "            second_largest = current_number\n",
    "        return get_sum_of_two_largest(numbers[1:], largest=largest, second_largest=second_largest)\n",
    "    else:\n",
    "        return largest + second_largest"
   ]
  },
  {
   "cell_type": "code",
   "execution_count": 65,
   "metadata": {
    "scrolled": true
   },
   "outputs": [
    {
     "name": "stdout",
     "output_type": "stream",
     "text": [
      "11\n"
     ]
    }
   ],
   "source": [
    "print (get_sum_of_two_largest([-1,5,6,0,3,5]))"
   ]
  },
  {
   "cell_type": "markdown",
   "metadata": {},
   "source": [
    "# generalizing \n",
    "## with a generator"
   ]
  },
  {
   "cell_type": "code",
   "execution_count": 146,
   "metadata": {
    "collapsed": true
   },
   "outputs": [],
   "source": [
    "def next_biggest(list_of_nums = []):\n",
    "    while list_of_nums:\n",
    "        biggest = max(list_of_nums)\n",
    "        list_of_nums.remove(biggest)\n",
    "        yield biggest"
   ]
  },
  {
   "cell_type": "code",
   "execution_count": 149,
   "metadata": {
    "collapsed": true
   },
   "outputs": [],
   "source": [
    "def add_biggest(digits = 0, list_of_nums = []):\n",
    "    biggest_nums = next_biggest(list_of_nums)\n",
    "    sum = 0\n",
    "    for i in range(digits):\n",
    "        sum += next(biggest_nums)\n",
    "    return sum"
   ]
  },
  {
   "cell_type": "code",
   "execution_count": 151,
   "metadata": {
    "scrolled": true
   },
   "outputs": [
    {
     "name": "stdout",
     "output_type": "stream",
     "text": [
      "100000 loops, best of 3: 2.43 µs per loop\n",
      "11\n",
      "16\n",
      "19\n"
     ]
    }
   ],
   "source": [
    "%timeit add_biggest(2, [-1,5,6,0,3,5])\n",
    "print (add_biggest(2, [-1,5,6,0,3,5]))\n",
    "print (add_biggest(3, [-1,5,6,0,3,5]))\n",
    "print (add_biggest(4, [-1,5,6,0,3,5]))"
   ]
  },
  {
   "cell_type": "markdown",
   "metadata": {},
   "source": [
    "## using the sorting technique"
   ]
  },
  {
   "cell_type": "code",
   "execution_count": 152,
   "metadata": {
    "collapsed": true
   },
   "outputs": [],
   "source": [
    "def add_biggest(digits = 0, list_of_nums = []):\n",
    "    sorted_list = sorted(list_of_nums)\n",
    "    sum = 0\n",
    "    for i in range(digits):\n",
    "        sum += sorted_list[i]\n",
    "    return sum"
   ]
  },
  {
   "cell_type": "code",
   "execution_count": 153,
   "metadata": {
    "scrolled": true
   },
   "outputs": [
    {
     "name": "stdout",
     "output_type": "stream",
     "text": [
      "The slowest run took 4.90 times longer than the fastest. This could mean that an intermediate result is being cached.\n",
      "1000000 loops, best of 3: 1.36 µs per loop\n",
      "-1\n",
      "2\n",
      "7\n"
     ]
    }
   ],
   "source": [
    "%timeit add_biggest(2, [-1,5,6,0,3,5])\n",
    "print (add_biggest(2, [-1,5,6,0,3,5]))\n",
    "print (add_biggest(3, [-1,5,6,0,3,5]))\n",
    "print (add_biggest(4, [-1,5,6,0,3,5]))"
   ]
  },
  {
   "cell_type": "markdown",
   "metadata": {},
   "source": [
    "## generalized recursion"
   ]
  },
  {
   "cell_type": "code",
   "execution_count": 109,
   "metadata": {
    "collapsed": true
   },
   "outputs": [],
   "source": [
    "def add_and_bump_smallest(current, numbers):\n",
    "    if numbers:\n",
    "        if current > numbers[0]:\n",
    "            return [current] + add_and_bump_smallest(numbers[0], numbers[1:])\n",
    "        else:\n",
    "            return [numbers[0]] + add_and_bump_smallest(current, numbers[1:])\n",
    "    else:\n",
    "        return []"
   ]
  },
  {
   "cell_type": "code",
   "execution_count": 105,
   "metadata": {},
   "outputs": [],
   "source": [
    "def add_in_order(current, numbers):\n",
    "    if numbers:\n",
    "        if current > numbers[0]:\n",
    "            return [current] + add_in_order(numbers[0], numbers[1:])\n",
    "        else:\n",
    "            return [numbers[0]] + add_in_order(current, numbers[1:])\n",
    "    else:\n",
    "        return [current]"
   ]
  },
  {
   "cell_type": "code",
   "execution_count": 114,
   "metadata": {},
   "outputs": [],
   "source": [
    "def get_sum_of_largest(numbers = [], arity = 0, largest = []):\n",
    "    if numbers:\n",
    "        if len(largest) < arity:\n",
    "            largest = add_in_order(numbers[0], largest)\n",
    "        else:\n",
    "            largest = add_and_bump_smallest(numbers[0], largest)\n",
    "        return get_sum_of_largest(numbers[1:], arity, largest)\n",
    "    else:\n",
    "        return sum(largest)"
   ]
  },
  {
   "cell_type": "code",
   "execution_count": 117,
   "metadata": {
    "scrolled": true
   },
   "outputs": [
    {
     "name": "stdout",
     "output_type": "stream",
     "text": [
      "[5, 3, 2]\n",
      "[6, 5, 4]\n",
      "[5]\n",
      "[5, 2]\n",
      "[6, 5]\n",
      "[6, 5, 4]\n",
      "11\n",
      "16\n",
      "19\n"
     ]
    }
   ],
   "source": [
    "print (add_and_bump_smallest(5, [3,2,1]))\n",
    "print (add_and_bump_smallest(5, [6,4,3]))\n",
    "print (add_in_order(5, []))\n",
    "print (add_in_order(5, [2]))\n",
    "print (add_in_order(5, [6]))\n",
    "print (add_in_order(5, [6,4]))\n",
    "print (get_sum_of_largest([-1,5,6,0,3,5], arity=2))\n",
    "print (get_sum_of_largest([-1,5,6,0,3,5], arity=3))\n",
    "print (get_sum_of_largest([-1,5,6,0,3,5], arity=4))"
   ]
  },
  {
   "cell_type": "code",
   "execution_count": null,
   "metadata": {
    "collapsed": true
   },
   "outputs": [],
   "source": []
  }
 ],
 "metadata": {
  "kernelspec": {
   "display_name": "Python 3",
   "language": "python",
   "name": "python3"
  },
  "language_info": {
   "codemirror_mode": {
    "name": "ipython",
    "version": 3
   },
   "file_extension": ".py",
   "mimetype": "text/x-python",
   "name": "python",
   "nbconvert_exporter": "python",
   "pygments_lexer": "ipython3",
   "version": "3.6.1"
  }
 },
 "nbformat": 4,
 "nbformat_minor": 2
}
